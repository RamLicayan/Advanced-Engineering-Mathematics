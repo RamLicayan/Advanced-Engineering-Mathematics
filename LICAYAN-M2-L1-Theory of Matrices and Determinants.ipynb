{
  "nbformat": 4,
  "nbformat_minor": 0,
  "metadata": {
    "colab": {
      "name": "LICAYAN-M2-L1",
      "provenance": [],
      "collapsed_sections": []
    },
    "kernelspec": {
      "name": "python3",
      "display_name": "Python 3"
    },
    "language_info": {
      "name": "python"
    }
  },
  "cells": [
    {
      "cell_type": "markdown",
      "metadata": {
        "id": "dCe22gjXlMtv"
      },
      "source": [
        "#**MODULE 2 - Matrices and determinants**\n",
        "##**LESSON 1: Theory of matrices and determinants**\n",
        "\n",
        "### **Learning Outcomes**\n",
        "* understand matrix notation\n",
        "* add, subtract and multiply 2 by 2 and 3 by 3 matrices \n",
        "* recognize the unit matrix\n",
        "* calculate the determinant of a 2 by 2 matrix\n",
        "* determine the inverse (or reciprocal) of a 2 by 2 matrix\n",
        "* calculate the determinant of a 3 by 3 matrix\n",
        "* determine the inverse (or reciprocal) of a 3 by 3 matrix\n",
        "\n",
        "> **Introduction**\n",
        ">>$\\quad$As mentioned previously, matrices are used to solve\n",
        "problems, for example, in electrical circuits, optics,\n",
        "quantum mechanics, statics, robotics, genetics, and\n",
        "much more, and for calculating forces, vectors,\n",
        "tensions, masses, loads and a lot of other factors\n",
        "that must be accounted for in engineering. In the\n",
        "main, matrices and determinants are used to solve\n",
        "a system of simultaneous linear equations. The\n",
        "simultaneous solution of multiple equations finds its\n",
        "way into many common engineering problems. In fact,\n",
        "modern structural engineering analysis techniques are\n",
        "all about solving systems of equations simultaneously.\n",
        "Eigenvalues and eigenvectors, which are based on\n",
        "matrix theory, are very important in engineering and\n",
        "science. For example, car designers analyze eigenvalues\n",
        "in order to damp out the noise in a car, eigenvalue\n",
        "analysis is used in the design of car stereo systems,\n",
        "eigenvalues can be used to test for cracks and\n",
        "deformities in a solid, and oil companies use\n",
        "eigenvalues analysis to explore land for oil."
      ]
    },
    {
      "cell_type": "markdown",
      "metadata": {
        "id": "7UwkSQomm1En"
      },
      "source": [
        "> **1.1 Matrix Notation**\n",
        ">>$\\quad$ Matrices and determinants are mainly used for the solution of linear simultaneous equations. The theory of matrices and determinants is dealt with in this chapter and this theory is then used in Chapter 23 to solve simultaneous equations. \\\\\n",
        "$\\quad$ The coefficients of the variables for linear simultaneous equations may be shown in matrix form. The coefficients of $x$ and $y$ in the simultaneous equations\n",
        "$$\n",
        "\\begin{array}{r}\n",
        "x+2 y=3 \\\\\n",
        "4 x-5 y=6\n",
        "\\end{array}\n",
        "$$\n",
        "become$$\\begin{vmatrix}1 & 2 \\\\ \n",
        "4 & -5\\end{vmatrix}$$\n",
        "in matrix notation.\n",
        "Similarly, the coefficients of $p, q$ and $r$ in the equations: \\\\\n",
        "\\begin{array}{r}\n",
        "1.3 p-2.0 q+r=7  \\\\\n",
        "3.7 p+4.8 q-7 r=3 \\\\\n",
        "4.1 p+3.8 q+12 r=-6 \\\\\n",
        "\\end{array}\n",
        "become\n",
        "$$\\begin{bmatrix}\n",
        "1.3 & -2.0 & 1 \\\\\n",
        "3.7 & 4.8 & -7 \\\\\n",
        " 4.1 & 3.8 & 12\\end{bmatrix}$$\n",
        "in matrix form.\n",
        "The numbers withina matrix are called an **array** and the coefficients forming the array are called the **elements** of the matrix. The number of rows in a matrix is usually specified by m and the number of columns by n and a matrix referred to as an ‘m by n’ matrix. Thus, \n",
        "$$\\begin{vmatrix}\n",
        "2 & 3 & 6 \\\\ \n",
        "4 & 5 & 7\\end{vmatrix}$$\n",
        "is a ‘2 by 3’ matrix. Matrices cannot be\n",
        "expressed as a singlenumerical value, but they can often\n",
        "be simplified or combined, and unknown element values\n",
        "can be determined by comparison methods. Just as\n",
        "there are rules for addition, subtraction, multiplication\n",
        "and division of numbers in arithmetic, rules for these\n",
        "operations can be applied to matrices and the rules of\n",
        "matrices are such that they obeymost of those governing\n",
        "the algebra of numbers."
      ]
    },
    {
      "cell_type": "markdown",
      "metadata": {
        "id": "M9uhu1QVyKYV"
      },
      "source": [
        "> **1.2 Addition, subtraction and multiplication of\n",
        "matrices**\n",
        ">> (i) Addition of matrices \\\\\n",
        "Corresponding elements in two matrices may be added\n",
        "to form a single matrix."
      ]
    },
    {
      "cell_type": "markdown",
      "metadata": {
        "id": "7LnYa2zp4H9c"
      },
      "source": [
        "> **Problem 1**\n",
        "\n",
        "Add the matrices \\\\\n",
        "(a) $ \\left(\\begin{array}{rr}2 & -1 \\\\ -7 & 4\\end{array}\\right)$ and $\\left(\\begin{array}{rr}-3 & 0 \\\\ 7 & -4\\end{array}\\right)$ \\\\\n",
        "\n",
        "(b) $\\left(\\begin{array}{rrr}3 & 1 & -4 \\\\ 4 & 3 & 1 \\\\ 1 & 4 & -3\\end{array}\\right)$ and $\\left(\\begin{array}{rrr}2 & 7 & -5 \\\\ -2 & 1 & 0 \\\\ 6 & 3 & 4\\end{array}\\right)$"
      ]
    },
    {
      "cell_type": "code",
      "metadata": {
        "colab": {
          "base_uri": "https://localhost:8080/"
        },
        "id": "ITRb_2OR3929",
        "outputId": "19e31031-4d82-4f38-9b42-5e09c2920e77"
      },
      "source": [
        "# code for Problem 1a\n",
        "\n",
        "#Assigning values for the matrices\n",
        "A = [[2,-1],   #Matrix A\n",
        "    [-7,4]]\n",
        " \n",
        "B = [[-3,0],   #Matrix B\n",
        "    [7,-4]]\n",
        "\n",
        "result = [[0,0],\n",
        "         [0,0]]\n",
        "\n",
        "#Iterate through rows\n",
        "for i in range(len(A)):  \n",
        "   #Iterate through columns\n",
        "    for j in range(len(A[0])):\n",
        "        result[i][j] = A[i][j] + B[i][j]\n",
        "#Printing the answer\n",
        "for r in result:\n",
        "    print(r)"
      ],
      "execution_count": null,
      "outputs": [
        {
          "output_type": "stream",
          "text": [
            "[-1, -1]\n",
            "[0, 0]\n"
          ],
          "name": "stdout"
        }
      ]
    },
    {
      "cell_type": "code",
      "metadata": {
        "colab": {
          "base_uri": "https://localhost:8080/"
        },
        "id": "o4L1i32J7epr",
        "outputId": "3f8529e5-8641-4aed-f8bb-92394a0613b3"
      },
      "source": [
        "# code for Problem 1b\n",
        "\n",
        "#Assigning values for the matrices\n",
        "A = [[3,1,-4],   #Matrix A\n",
        "    [4,3,1],\n",
        "    [1,4,-3]]\n",
        " \n",
        "B = [[2,7,-5],    #Matrix B\n",
        "    [-2,1,0],\n",
        "    [6,3,4]]\n",
        " \n",
        "result = [[0,0,0],\n",
        "          [0,0,0],\n",
        "          [0,0,0]]\n",
        "\n",
        "#Iterate through rows\n",
        "for i in range(len(A)):  \n",
        "   #Iterate through columns\n",
        "    for j in range(len(A[0])):\n",
        "        result[i][j] = A[i][j] + B[i][j]\n",
        "#Printing the answer\n",
        "for r in result:\n",
        "    print(r)"
      ],
      "execution_count": null,
      "outputs": [
        {
          "output_type": "stream",
          "text": [
            "[5, 8, -9]\n",
            "[2, 4, 1]\n",
            "[7, 7, 1]\n"
          ],
          "name": "stdout"
        }
      ]
    },
    {
      "cell_type": "markdown",
      "metadata": {
        "id": "24FIqO7k8ArL"
      },
      "source": [
        ">> (ii) Subtraction of matrices \\\\\n",
        "If A is a matrix and B is another matrix, then (A− B)\n",
        "is a single matrix formed by subtracting the elements of\n",
        "B from the corresponding elements of A."
      ]
    },
    {
      "cell_type": "markdown",
      "metadata": {
        "id": "TGXpZs9k8vh4"
      },
      "source": [
        "> **Problem 2**\n",
        "\n",
        "Subtract \\\\\n",
        "(a) $ \\left(\\begin{array}{rr}-3 & 0 \\\\ 7 & -4\\end{array}\\right)$ from $\\left(\\begin{array}{rr}2 & -1 \\\\ -7 & 4\\end{array}\\right)$ \\\\\n",
        "\n",
        "(b) $\\left(\\begin{array}{rrr}2 & 7 & -5 \\\\ -2 & 1 & 0 \\\\ 6 & 2 & 4\\end{array}\\right)$ from $\\left(\\begin{array}{rrr}3 & 1 & -4 \\\\ 4 & 3 & 1 \\\\ 1 & 4 & -3\\end{array}\\right)$"
      ]
    },
    {
      "cell_type": "code",
      "metadata": {
        "colab": {
          "base_uri": "https://localhost:8080/"
        },
        "id": "gd1n0rE09Wya",
        "outputId": "84d897de-54b7-4e57-b576-a30af8daae53"
      },
      "source": [
        "# code for Problem 2a\n",
        "\n",
        "#Assigning values for the matrices\n",
        "A = [[-3,0],   #Matrix A\n",
        "    [7,-4]]\n",
        " \n",
        "B = [[2,-1],   #Matrix B\n",
        "    [-7,4]]\n",
        "\n",
        "result = [[0,0],\n",
        "         [0,0]]\n",
        "\n",
        "#Iterate through rows\n",
        "for i in range(len(A)):  \n",
        "   #Iterate through columns\n",
        "    for j in range(len(A[0])):\n",
        "        result[i][j] = B[i][j] - A[i][j]\n",
        "#Printing the answer\n",
        "for r in result:\n",
        "    print(r)"
      ],
      "execution_count": null,
      "outputs": [
        {
          "output_type": "stream",
          "text": [
            "[5, -1]\n",
            "[-14, 8]\n"
          ],
          "name": "stdout"
        }
      ]
    },
    {
      "cell_type": "code",
      "metadata": {
        "colab": {
          "base_uri": "https://localhost:8080/"
        },
        "id": "KWh2JUZN-DDS",
        "outputId": "b077f02f-46c2-4bde-afce-be0bc44603f6"
      },
      "source": [
        "# code for Problem 2b\n",
        "\n",
        "#Assigning values for the matrices\n",
        "A = [[2,7,-5],    #Matrix A\n",
        "    [-2,1,0],\n",
        "    [6,3,4]]\n",
        " \n",
        "B = [[3,1,-4],    #Matrix B\n",
        "    [4,3,1],\n",
        "    [1,4,-3]]\n",
        " \n",
        "result = [[0,0,0],\n",
        "          [0,0,0],\n",
        "          [0,0,0]]\n",
        "\n",
        "#Iterate through rows\n",
        "for i in range(len(A)):  \n",
        "   #Iterate through columns\n",
        "    for j in range(len(A[0])):\n",
        "        result[i][j] = B[i][j] - A[i][j]\n",
        "#Printing the answer\n",
        "for r in result:\n",
        "    print(r)"
      ],
      "execution_count": null,
      "outputs": [
        {
          "output_type": "stream",
          "text": [
            "[1, -6, 1]\n",
            "[6, 2, 1]\n",
            "[-5, 1, -7]\n"
          ],
          "name": "stdout"
        }
      ]
    },
    {
      "cell_type": "markdown",
      "metadata": {
        "id": "gUOx8efECuOg"
      },
      "source": [
        ">> (iii) Multiplication \\\\\n",
        "When a matrix is multiplied by a number, called **scalar\n",
        "multiplication**, a single matrix results in which each\n",
        "element of the original matrix has been multiplied by\n",
        "the number."
      ]
    },
    {
      "cell_type": "markdown",
      "metadata": {
        "id": "_xU_YSjDDP8g"
      },
      "source": [
        ">**Problem 3**\n",
        "\n",
        "If $\\text{A=}\\left(\\begin{array}{rr}-3 & 0 \\\\ 7 & -4\\end{array}\\right)$ $\\text{,B=}\\left(\\begin{array}{rr}2 & -1 \\\\ -7 & 4\\end{array}\\right)$ and $\\text{C=}\\left(\\begin{array}{rr}1 & 0 \\\\ -2 & -4\\end{array}\\right)$ ,find 2A-3B+4C."
      ]
    },
    {
      "cell_type": "code",
      "metadata": {
        "colab": {
          "base_uri": "https://localhost:8080/"
        },
        "id": "0GOmTouyFAsZ",
        "outputId": "29e1e81d-4955-447f-dcc3-8bd9c7b0393d"
      },
      "source": [
        "#code for Problem 3\n",
        "A = [[-3,0],    #Matrix A\n",
        "    [7,-4]]\n",
        "\n",
        "B = [[2,-1],    #Matrix B\n",
        "    [-7,4]]\n",
        "\n",
        "C = [[1,0],     #Matrix C\n",
        "    [-2,-4]]\n",
        "\n",
        "result = [[0,0],\n",
        "          [0,0]]\n",
        "\n",
        "#Iterate through rows       \n",
        "for i in range(len(A)):\n",
        "    #Iterate through columns  \n",
        "    for j in range(len(A[0])):\n",
        "        result[i][j] = 2*A[i][j] - 3*B[i][j] + 4*C[i][j]\n",
        "#Printing the answer\n",
        "for r in result:\n",
        "    print(r)"
      ],
      "execution_count": null,
      "outputs": [
        {
          "output_type": "stream",
          "text": [
            "[-8, 3]\n",
            "[27, -36]\n"
          ],
          "name": "stdout"
        }
      ]
    },
    {
      "cell_type": "markdown",
      "metadata": {
        "id": "9K-9t6HiGzSN"
      },
      "source": [
        ">>When a matrix A is multiplied by another matrix B,\n",
        "a single matrix results in which elements are obtained\n",
        "from the sum of the products of the corresponding rows\n",
        "of A and the corresponding columns of B.\n",
        "Two matrices A and B may be multiplied together,\n",
        "provided the number of elements in the rows of matrix\n",
        "A are equal to the number of elements in the columns of\n",
        "matrix B. In general terms, when multiplying a matrix\n",
        "of dimensions (m by n) by amatrix of dimensions (n by\n",
        "r), the resulting matrix has dimensions (m by r). Thus\n",
        "a 2 by 3 matrix multiplied by a 3 by 1 matrix gives a\n",
        "matrix of dimensions 2 by 1."
      ]
    },
    {
      "cell_type": "markdown",
      "metadata": {
        "id": "LT6f97-tH5_O"
      },
      "source": [
        "> **Problem 4**\n",
        "\n",
        "If $\\text{A=}\\left(\\begin{array}{rr}2 & 3 \\\\ 1 & -4\\end{array}\\right)$  and $\\text{B=}\\left(\\begin{array}{rr}-5 & 7 \\\\ -3 & 4\\end{array}\\right)$ ,find A x B."
      ]
    },
    {
      "cell_type": "code",
      "metadata": {
        "colab": {
          "base_uri": "https://localhost:8080/"
        },
        "id": "6HblbLPyIWw9",
        "outputId": "663b0622-885f-4450-ce09-bdbac515b3a8"
      },
      "source": [
        "# code for Problem 4\n",
        "\n",
        "#Assigning values for the matrices\n",
        "A = [[2,3],   #Matrix A\n",
        "    [1,-4]]\n",
        " \n",
        "B = [[-5,7],   #Matrix B\n",
        "    [-3,4]]\n",
        "\n",
        "result = [[0,0],\n",
        "         [0,0]]\n",
        "\n",
        "#Iterate through rows of A\n",
        "for i in range(len(A)):  \n",
        "   #Iterate through columns of B\n",
        "    for j in range(len(A[0])):\n",
        "       # Iterate through rows of B\n",
        "        for k in range(len(B)):\n",
        "           result[i][j] += A[i][k] * B[k][j]\n",
        "#Printing the answer\n",
        "for r in result:\n",
        "    print(r)"
      ],
      "execution_count": null,
      "outputs": [
        {
          "output_type": "stream",
          "text": [
            "[-19, 26]\n",
            "[7, -9]\n"
          ],
          "name": "stdout"
        }
      ]
    },
    {
      "cell_type": "markdown",
      "metadata": {
        "id": "MZCNNtWkJyE9"
      },
      "source": [
        ">**Problem 5**\n",
        "\n",
        "Simplify $\\left(\\begin{array}{rr}3 & 4 & 0 \\\\ -2 & 6 & -3\\\\ 7 & -4 & 1\\end{array}\\right)$ x $\\left(\\begin{array}{rr}2 \\\\ 5\\\\ -1\\end{array}\\right)$"
      ]
    },
    {
      "cell_type": "code",
      "metadata": {
        "colab": {
          "base_uri": "https://localhost:8080/"
        },
        "id": "QTKhnAoRKzVu",
        "outputId": "4353a87f-dae7-48a8-9763-913961e2c37b"
      },
      "source": [
        "# code for Problem 5\n",
        "\n",
        "#Assigning values for the matrices\n",
        "A = [[3,4,0],     #Matrix A\n",
        "    [-2,6,-3],\n",
        "     [7,-4,1]]\n",
        " \n",
        "B = [[2],         #Matrix A\n",
        "     [5],\n",
        "    [-1]]\n",
        "\n",
        "result = [[0],    #The resulting matrix is 3 x 1 since it is a product of \n",
        "          [0],    #a 3 x 3 matrix and a 3 x 1.\n",
        "          [0]]\n",
        "\n",
        "#Iterate through rows of A\n",
        "for i in range(len(A)):\n",
        "  #Iterate through columns of B\n",
        "   for j in range(len(B[0])):\n",
        "      # Iterate through rows of B\n",
        "       for k in range(len(B)):\n",
        "           result[i][j] += A[i][k] * B[k][j]\n",
        "\n",
        "#Printing the answer\n",
        "for r in result:\n",
        "    print(r)"
      ],
      "execution_count": null,
      "outputs": [
        {
          "output_type": "stream",
          "text": [
            "[26]\n",
            "[29]\n",
            "[-7]\n"
          ],
          "name": "stdout"
        }
      ]
    },
    {
      "cell_type": "markdown",
      "metadata": {
        "id": "c4UP4WNmNEKm"
      },
      "source": [
        ">**Problem 6**\n",
        "\n",
        "If $\\text{A=}\\left(\\begin{array}{rr}3 & 4 & 0 \\\\-2 & 6 & -3\\\\ 7 & -4 & 1\\end{array}\\right)$ and $\\text{B=}\\left(\\begin{array}{rr}2 & -5 \\\\ 5 & -6\\\\ -1 & -7\\end{array}\\right)$, find A x B."
      ]
    },
    {
      "cell_type": "code",
      "metadata": {
        "colab": {
          "base_uri": "https://localhost:8080/"
        },
        "id": "-YW9AuJ1PDW2",
        "outputId": "df143158-ab11-45ad-90b6-c4d582f7686b"
      },
      "source": [
        "# code for Problem 6\n",
        "\n",
        "#Assigning values for the matrices\n",
        "A = [[3,4,0],     #Matrix A\n",
        "    [-2,6,-3],\n",
        "     [7,-4,1]]\n",
        " \n",
        "B = [[2,-5],         #Matrix A\n",
        "     [5,-6],\n",
        "    [-1,-7]]\n",
        "\n",
        "result = [[0,0],    #The resulting matrix is 3 x 2 since it is a product of \n",
        "          [0,0],    #a 3 x 3 matrix and a 3 x 2.\n",
        "          [0,0]]\n",
        "\n",
        "#Iterate through rows of A\n",
        "for i in range(len(A)):\n",
        "  #Iterate through columns of B\n",
        "   for j in range(len(B[0])):\n",
        "      # Iterate through rows of B\n",
        "       for k in range(len(B)):\n",
        "           result[i][j] += A[i][k] * B[k][j]\n",
        "\n",
        "#Printing the answer\n",
        "for r in result:\n",
        "    print(r)"
      ],
      "execution_count": null,
      "outputs": [
        {
          "output_type": "stream",
          "text": [
            "[26, -39]\n",
            "[29, -5]\n",
            "[-7, -18]\n"
          ],
          "name": "stdout"
        }
      ]
    },
    {
      "cell_type": "markdown",
      "metadata": {
        "id": "tzwzWJq-QvD2"
      },
      "source": [
        ">**Problem 7**\n",
        "\n",
        "Determine $\\left(\\begin{array}{rr}1 & 0 & 3 \\\\2 & 1 & 2\\\\ 1 & 3 & 1\\end{array}\\right)$ x $\\left(\\begin{array}{rr}2 & 2 & 0 \\\\1 & 3 & 2\\\\ 3 & 2 & 0\\end{array}\\right)$"
      ]
    },
    {
      "cell_type": "code",
      "metadata": {
        "colab": {
          "base_uri": "https://localhost:8080/"
        },
        "id": "HUClGjSHRSWq",
        "outputId": "97ec8b26-41dc-4e4c-f3e6-5948dae80bee"
      },
      "source": [
        "# code for Problem 7\n",
        "\n",
        "#Assigning values for the matrices\n",
        "A = [[1,0,3],     #Matrix A\n",
        "    [2,1,2],\n",
        "     [1,3,1]]\n",
        " \n",
        "B = [[2,2,0],      #Matrix B\n",
        "    [1,3,2],\n",
        "    [3,2,0]]\n",
        "\n",
        "result = [[0,0,0],     \n",
        "          [0,0,0],    \n",
        "          [0,0,0]]\n",
        "\n",
        "#Iterate through rows of A\n",
        "for i in range(len(A)):\n",
        "  #Iterate through columns of B\n",
        "   for j in range(len(B[0])):\n",
        "      # Iterate through rows of B\n",
        "       for k in range(len(B)):\n",
        "           result[i][j] += A[i][k] * B[k][j]\n",
        "\n",
        "#Printing the answer\n",
        "for r in result:\n",
        "    print(r)"
      ],
      "execution_count": null,
      "outputs": [
        {
          "output_type": "stream",
          "text": [
            "[11, 8, 0]\n",
            "[11, 11, 2]\n",
            "[8, 13, 6]\n"
          ],
          "name": "stdout"
        }
      ]
    },
    {
      "cell_type": "markdown",
      "metadata": {
        "id": "32ojmFeQRr1R"
      },
      "source": [
        ">>In algebra, the commutative law of multiplication states\n",
        "that a × b=b × a. For matrices, this law is only true in\n",
        "a few special cases, and in general A × B is not equal\n",
        "to B × A."
      ]
    },
    {
      "cell_type": "markdown",
      "metadata": {
        "id": "ITNcUVFLR8eB"
      },
      "source": [
        ">**Problem 8**\n",
        "\n",
        "If $\\text{A=} \\left(\\begin{array}{rr}2 & 3 \\\\1 & 0\\end{array}\\right)$ and $\\text{B=} \\left(\\begin{array}{rr}2 & 3 \\\\0 & 1\\end{array}\\right)$ show that A x B $\\neq$ B x A."
      ]
    },
    {
      "cell_type": "code",
      "metadata": {
        "colab": {
          "base_uri": "https://localhost:8080/"
        },
        "id": "5IoZqk9MS5u6",
        "outputId": "fc926c54-0089-4415-9c37-0505640414d2"
      },
      "source": [
        "# code for Problem 8\n",
        "\n",
        "#A x B\n",
        "#Assigning values for the matrices\n",
        "A = [[2,3],     #Matrix A\n",
        "    [1,0]]   \n",
        " \n",
        "B = [[2,3],      #Matrix B\n",
        "    [0,1]]\n",
        "\n",
        "result = [[0,0,],     \n",
        "          [0,0]]\n",
        "\n",
        "print(\"Since\")\n",
        "\n",
        "#Iterate through rows of A\n",
        "for i in range(len(A)):\n",
        "  #Iterate through columns of B\n",
        "   for j in range(len(B[0])):\n",
        "      # Iterate through rows of B\n",
        "       for k in range(len(B)):\n",
        "           result[i][j] += A[i][k] * B[k][j]\n",
        "\n",
        "for r in result:\n",
        "  print(r)\n",
        "\n",
        "print(\"is not equal to\")\n",
        "\n",
        "#B x A\n",
        "A = [[2,3],     #Matrix A\n",
        "    [1,0]]   \n",
        " \n",
        "B = [[2,3],     #Matrix B\n",
        "    [0,1]]\n",
        "\n",
        "result = [[0,0,],     \n",
        "          [0,0]]\n",
        "\n",
        "  #Iterate through rows of A\n",
        "for i in range(len(A)):\n",
        "  #Iterate through columns of B\n",
        "   for j in range(len(B[0])):\n",
        "      # Iterate through rows of B\n",
        "       for k in range(len(B)):\n",
        "           result[i][j] += B[i][k] * A[k][j] \n",
        "\n",
        "for r in result:\n",
        "  print(r)\n",
        "\n",
        "print(\"then A x B is not equal to B x A.\")\n"
      ],
      "execution_count": null,
      "outputs": [
        {
          "output_type": "stream",
          "text": [
            "Since\n",
            "[4, 9]\n",
            "[2, 3]\n",
            "is not equal to\n",
            "[7, 6]\n",
            "[1, 0]\n",
            "then A x B is not equal to B x A.\n"
          ],
          "name": "stdout"
        }
      ]
    },
    {
      "cell_type": "markdown",
      "metadata": {
        "id": "Ic8L7UGQa6sI"
      },
      "source": [
        ">**1.3 The Unit Matrix**\n",
        ">>A unit matrix, $\\text {I}$, is one in which all elements of the\n",
        "leading diagonal ( \\ ) have a value of 1 and all other elements\n",
        "have a value of 0. Multiplication of a matrix by\n",
        "I is the equivalent of multiplying by 1 in arithmetic."
      ]
    },
    {
      "cell_type": "markdown",
      "metadata": {
        "id": "vWxMmBs5btg-"
      },
      "source": [
        ">**1.4 The determinant of a 2 by 2 matrix**\n",
        ">>The determinant of a 2 by 2 matrix,\n",
        "$\\left(\\begin{array}{rr}a & b \\\\c & d\\end{array}\\right)$ is defined\n",
        "as (ad−bc). The elements of the determinant of a matrix are\n",
        "written between vertical lines. Thus, the determinant\n",
        "of\n",
        "$\\left(\\begin{array}{rr}3 & -4 \\\\1 & 6\\end{array}\\right)$\n",
        "is written as $\\begin{vmatrix}3 & -4 \\\\1 & 6\\end{vmatrix}$ and is equal to\n",
        "(3×6)−(−4×1), i.e. 18−(−4) or 22. Hence the determinant of a matrix can be expressed as a single numerical value, i.e. $\\begin{vmatrix}3 & -4 \\\\1 & 6\\end{vmatrix}\\text {=22.}$"
      ]
    },
    {
      "cell_type": "markdown",
      "metadata": {
        "id": "y244xdybdZ0G"
      },
      "source": [
        ">**Problem 9**\n",
        "\n",
        "Determine the value of $$\\begin{vmatrix}3 & -2 \\\\7 & 4\\end{vmatrix}$$"
      ]
    },
    {
      "cell_type": "code",
      "metadata": {
        "colab": {
          "base_uri": "https://localhost:8080/"
        },
        "id": "ZRib7zIqdY1I",
        "outputId": "a304485c-1c57-4779-995d-868db7d9a0dd"
      },
      "source": [
        "#code for Problem 9\n",
        "\n",
        "#import library\n",
        "import numpy as np \n",
        "\n",
        "#assigning values\n",
        "A = np.array([[3,-2], [7,4]])\n",
        "\n",
        "#obtaining the determinant\n",
        "d = np.linalg.det(A)\n",
        "print(\"The determinant of the given matrix is:\", round(d))"
      ],
      "execution_count": null,
      "outputs": [
        {
          "output_type": "stream",
          "text": [
            "The determinant of the given matrix is: 26\n"
          ],
          "name": "stdout"
        }
      ]
    },
    {
      "cell_type": "markdown",
      "metadata": {
        "id": "GnYdEIV0eXR4"
      },
      "source": [
        ">**Problem 10**\n",
        "\n",
        "Evaluate $$\\begin{vmatrix}(1+j) & j2 \\\\-j3 & (1-j4)\\end{vmatrix}$$"
      ]
    },
    {
      "cell_type": "code",
      "metadata": {
        "colab": {
          "base_uri": "https://localhost:8080/"
        },
        "id": "4Fr88zI1evFd",
        "outputId": "585445ce-6bd4-4f53-fb71-8bde29d04caf"
      },
      "source": [
        "#code for Problem 10\n",
        "\n",
        "#import library\n",
        "import numpy as np \n",
        "\n",
        "#assigning values\n",
        "A = np.array([[(1+1j),2j], [-3j,(1-4j)]]) \n",
        "#obtaining the determinant\n",
        "d = np.linalg.det(A)\n",
        "print(\"The determinant of the given matrix is:\", d)"
      ],
      "execution_count": null,
      "outputs": [
        {
          "output_type": "stream",
          "text": [
            "The determinant of the given matrix is: (-1.0000000000000004-3j)\n"
          ],
          "name": "stdout"
        }
      ]
    },
    {
      "cell_type": "markdown",
      "metadata": {
        "id": "dUB7XqLqfOcp"
      },
      "source": [
        ">**1.3 The inverse or reciprocal of a 2 by 2 matrix**\n",
        ">>The inverse of matrix  $\\ {A}$ is $\\ {A}^{−1} $ such that $\\ {A} + {A}^{−1} = {I}$ ,the unit matrix. \\\\\n",
        "Let matrix A be $\\begin{pmatrix}1 & 2 \\\\3 & 4\\end{pmatrix}$ and let the inverse matrix, $\\ {A}^{−1} $ be $\\begin{pmatrix}a & b \\\\c & d\\end{pmatrix}$.\n",
        "Then, since $\\ {A} + {A}^{−1} = {I}$ , \\\\\n",
        "$\\begin{pmatrix}1 & 2 \\\\3 & 4\\end{pmatrix}$ x $\\begin{pmatrix}a & b \\\\c & d\\end{pmatrix}$ = $\\begin{pmatrix}1 & 0 \\\\0 & 1\\end{pmatrix}$ \\\\\n",
        "Multiplying the matrices on the left hand side, gives $\\begin{pmatrix}a+2c & b+2d \\\\3a+4c & 3b+4d\\end{pmatrix}$ = $\\begin{pmatrix}1 & 0 \\\\0 & 1\\end{pmatrix}$ \\\\\n",
        "Equating corresponding elements gives: \\\\\n",
        "$$b+2 d=0, \\text { i.e. } b=-2 d$$\n",
        "and $$3 a+4 c=0, \\text { i.e. } a=-\\frac{4}{3} c$$\n",
        "Substituting for $a$ and $b$ gives:\n",
        "$$\n",
        "\\left(\\begin{array}{cc}\n",
        "-\\frac{4}{3} c+2 c & -2 d+2 d \\\\\n",
        "3\\left(-\\frac{4}{3} c\\right)+4 c & 3(-2 d)+4 d\n",
        "\\end{array}\\right)=\\left(\\begin{array}{cc}\n",
        "1 & 0 \\\\\n",
        "0 & 1\n",
        "\\end{array}\\right)\n",
        "$$\n",
        "i.e.\n",
        "$$\n",
        "\\left(\\begin{array}{cc}\n",
        "\\frac{2}{3} c & 0 \\\\\n",
        "0 & -2 d\n",
        "\\end{array}\\right)=\\left(\\begin{array}{ll}\n",
        "1 & 0 \\\\\n",
        "0 & 1\n",
        "\\end{array}\\right)\n",
        "$$\n",
        "showing that \\\\\n",
        " $\\frac{2}{3} c=1,$ i.e. $c=\\frac{3}{2}$ \\\\\n",
        " and $-2 d=1,$ i.e. $d=-\\frac{1}{2}$ \\\\\n",
        "Since $b=-2 d, b=1$ and since $a=-\\frac{4}{3} c, a=-2$ \\\\\n",
        "Thus the inverse of matrix $\\left(\\begin{array}{ll}1 & 2 \\\\ 3 & 4\\end{array}\\right)$ is $\\left(\\begin{array}{ll}a & b \\\\ c & d\\end{array}\\right)$ that is,\n",
        "$\\left(\\begin{array}{rr}-2 & 1 \\\\ \\frac{3}{2} & -\\frac{1}{2}\\end{array}\\right)$\n",
        "There is, however, a quicker method of obtaining the inverse of a 2 by 2 matrix. For any matrix $\\left(\\begin{array}{ll}p & q \\\\ r & s\\end{array}\\right)$ the inverse may be obtained by: \\\\\n",
        "(i) interchanging the positions of $p$ and $s$, \\\\\n",
        "(ii) changing the signs of $q$ and $r,$ and \\\\\n",
        "(iii) multiplying this new matrix by the reciprocal of the determinant of $\\left(\\begin{array}{ll}p & q \\\\ r & s\\end{array}\\right)$ \\\\\n",
        "Thus the inverse of matrix $\\left(\\begin{array}{ll}1 & 2 \\\\ 3 & 4\\end{array}\\right)$ is\n",
        "$$\n",
        "\\frac{1}{4-6}\\left(\\begin{array}{cc}\n",
        "4 & -2 \\\\\n",
        "-3 & 1\n",
        "\\end{array}\\right)=\\left(\\begin{array}{rr}\n",
        "-2 & 1 \\\\\n",
        "\\frac{3}{2} & -\\frac{1}{2}\n",
        "\\end{array}\\right)\n",
        "$$\n",
        "as obtained previously.\n",
        "\n",
        "\n"
      ]
    },
    {
      "cell_type": "markdown",
      "metadata": {
        "id": "DBHmO7ehUBe5"
      },
      "source": [
        ">**Problem 11**\n",
        "\n",
        "Determine the inverse of $$\\begin{pmatrix}3 & -2 \\\\7 & 4\\end{pmatrix}$$"
      ]
    },
    {
      "cell_type": "code",
      "metadata": {
        "colab": {
          "base_uri": "https://localhost:8080/"
        },
        "id": "00EKQytVUeZ-",
        "outputId": "875babb3-f0bd-46f7-dbc2-674be1fc8976"
      },
      "source": [
        "#code for Problem 11\n",
        "\n",
        "#import library\n",
        "import numpy as np \n",
        "\n",
        "#assigning values\n",
        "A = np.array([[3,-2], [7,4]])\n",
        "\n",
        "#obtaining the determinant\n",
        "inv = np.linalg.inv(A)\n",
        "print(\"The inverse of the given matrix is:\")\n",
        "print(inv)"
      ],
      "execution_count": null,
      "outputs": [
        {
          "output_type": "stream",
          "text": [
            "The inverse of the given matrix is:\n",
            "[[ 0.15384615  0.07692308]\n",
            " [-0.26923077  0.11538462]]\n"
          ],
          "name": "stdout"
        }
      ]
    },
    {
      "cell_type": "markdown",
      "metadata": {
        "id": "KN_JqcJhVWL-"
      },
      "source": [
        ">**1.3 The inverse or reciprocal of a 3 by 3 matrix**\n",
        ">>(i) The **minor** of an element of a 3 by 3 matrix is\n",
        "the value of the 2 by 2 determinant obtained by\n",
        "covering up the row and column containing that\n",
        "element.Thus for the matrix $\\begin{pmatrix}1 & 2 & 3 \\\\ 4 & 5 & 6\\\\7 & 8 &9\\end{pmatrix}$ the minor of element 4 is obtained by covering the row (4 5 6) and the column $\\begin{pmatrix}1 \\\\ 4\\\\7 \\end{pmatrix}$ leaving the 2 by\n",
        "2 determinant $\\begin{vmatrix}2 & 3 \\\\8 & 9 \\end{vmatrix}$, i.e. the minor of element 4 is (2 ×9)−(3×8)=−6. \\\\\n",
        "(ii) The sign of aminor depends on its position within the matrix, the sign pattern being $\\begin{pmatrix}+ & - & + \\\\ - & + & -\\\\+ & - & +\\end{pmatrix}$. \\\\\n",
        "Thus the signed-minor of element 4 in the matrix $\\begin{pmatrix}1 & 2 & 3 \\\\ 4 & 5 & 6\\\\7 & 8 &9\\end{pmatrix}$ is $\\ - \\begin{vmatrix}2 & 3 \\\\8 & 9 \\end{vmatrix}$ $\\ = -(-6)=6.$ \\\\\n",
        "The signed-minor of an element is called the **cofactor** of the element. \\\\\n",
        "(iii) The value of a 3 by 3 determinant is the sum of the products of the elements and their cofactors of any row or any column of the corresponding 3 by 3 matrix. \\\\\n",
        "There are thus six different ways of evaluating a 3×3\n",
        "determinant—and all should give the same value.\n"
      ]
    },
    {
      "cell_type": "markdown",
      "metadata": {
        "id": "6TlmB2aqZV8n"
      },
      "source": [
        ">**Problem 11**\n",
        "\n",
        "Find the value of $$\\begin{vmatrix}3 & 4 & -1 \\\\2 & 0 & 7\\\\1 & -3 & -2\\end{vmatrix}$$"
      ]
    },
    {
      "cell_type": "code",
      "metadata": {
        "colab": {
          "base_uri": "https://localhost:8080/"
        },
        "id": "997SQWgAZ85J",
        "outputId": "5d3cfa17-23fe-4c55-b2bd-648aaa5321ee"
      },
      "source": [
        "#code for Problem 11\n",
        "\n",
        "#import library\n",
        "import numpy as np \n",
        "\n",
        "#assigning values\n",
        "A = np.array([[3,4,-1], [2,0,7],[1,-3,-2]])\n",
        "\n",
        "#obtaining the determinant\n",
        "d = np.linalg.det(A)\n",
        "print(\"The determinant of the given matrix is:\", round(d))"
      ],
      "execution_count": null,
      "outputs": [
        {
          "output_type": "stream",
          "text": [
            "The determinant of the given matrix is: 113\n"
          ],
          "name": "stdout"
        }
      ]
    },
    {
      "cell_type": "markdown",
      "metadata": {
        "id": "9L3hQnxqaSKw"
      },
      "source": [
        ">**Problem 12**\n",
        "\n",
        "Evaluate $\\begin{vmatrix}1 & 4 & -3 \\\\-5 & 2 & 6\\\\-1 & -4 & 2\\end{vmatrix}$"
      ]
    },
    {
      "cell_type": "code",
      "metadata": {
        "colab": {
          "base_uri": "https://localhost:8080/"
        },
        "id": "wbHkCJdWalBe",
        "outputId": "ab33e037-9e22-4706-dee4-ca5bd1be94c6"
      },
      "source": [
        "#code for Problem 12\n",
        "\n",
        "#import library\n",
        "import numpy as np \n",
        "\n",
        "#assigning values\n",
        "A = np.array([[1,4,-3], [-5,2,6],[-1,-4,2]])\n",
        "\n",
        "#obtaining the determinant\n",
        "d = np.linalg.det(A)\n",
        "print(\"The determinant of the given matrix is:\", round(d))"
      ],
      "execution_count": null,
      "outputs": [
        {
          "output_type": "stream",
          "text": [
            "The determinant of the given matrix is: -22\n"
          ],
          "name": "stdout"
        }
      ]
    },
    {
      "cell_type": "markdown",
      "metadata": {
        "id": "wcnorOqia_6Z"
      },
      "source": [
        ">**1.4 The inverse or reciprocal 3 by 3 matrix**\n",
        ">>The adjoint of a matrix A is obtained by: \\\\\n",
        "(i) forming a matrix $\\ {B} $ of the cofactors of $\\ {A} $, and \\\\\n",
        "(ii) transposing matrix $\\ {B} $ to give $\\ {B}^{T} $, where $\\ {B}^{T} $ is the\n",
        "matrix obtained by writing the rows of $\\ {B} $ as the\n",
        "columns of $\\ {B}^{T} $. Then $\\mathrm {adj \\ A=} {B}^{T} $.\n",
        "The inverse of matrix $\\ {A} $, $\\ {A}^{-1} $ is given by: \\\\\n",
        "$$\\text {A}^{-1} = \\frac {adj \\ A}{|A|}$$\n",
        "where adj A is the adjoint of matrix A and |A| is the\n",
        "determinant of matrix A."
      ]
    },
    {
      "cell_type": "markdown",
      "metadata": {
        "id": "BtsaBJL6dbad"
      },
      "source": [
        ">**Problem 14**\n",
        "\n",
        "Determine the inverse of the matrix\n",
        "$$\\begin{pmatrix}3 & 4 & -1 \\\\2 & 0 & 7\\\\1 & -3 & -2\\end{pmatrix}$$"
      ]
    },
    {
      "cell_type": "code",
      "metadata": {
        "colab": {
          "base_uri": "https://localhost:8080/"
        },
        "id": "Oc8MMrpodUQg",
        "outputId": "613db745-8a3e-4ea0-d075-96638addfa8e"
      },
      "source": [
        "#code for Problem 14\n",
        "\n",
        "#import library\n",
        "import numpy as np \n",
        "\n",
        "#assigning values\n",
        "A = np.array([[3,4,-1], [2,0,7], [1,-3,-2]])\n",
        "\n",
        "#obtaining the determinant\n",
        "inv = np.linalg.inv(A)\n",
        "print(\"The inverse of the given matrix is:\")\n",
        "print(inv)"
      ],
      "execution_count": null,
      "outputs": [
        {
          "output_type": "stream",
          "text": [
            "The inverse of the given matrix is:\n",
            "[[ 0.18584071  0.09734513  0.24778761]\n",
            " [ 0.09734513 -0.04424779 -0.20353982]\n",
            " [-0.05309735  0.11504425 -0.07079646]]\n"
          ],
          "name": "stdout"
        }
      ]
    },
    {
      "cell_type": "markdown",
      "metadata": {
        "id": "c6NlJSSUeRf3"
      },
      "source": [
        ">**Problem 15**\n",
        "\n",
        "Find the inverse of $$\\begin{pmatrix}1 & 5 & -2 \\\\3 & -1 & 4\\\\-3 & 6 & -7\\end{pmatrix}$$"
      ]
    },
    {
      "cell_type": "code",
      "metadata": {
        "colab": {
          "base_uri": "https://localhost:8080/"
        },
        "id": "LZgdUn1ye73y",
        "outputId": "8e15ff32-805f-46af-bf22-bdd633b9b485"
      },
      "source": [
        "#code for Problem 14\n",
        "\n",
        "#import library\n",
        "import numpy as np \n",
        "\n",
        "#assigning values\n",
        "A = np.array([[1,5,-2], [3,-1,4], [-3,6,-7]])\n",
        "\n",
        "#obtaining the determinant\n",
        "inv = np.linalg.inv(A)\n",
        "print(\"The inverse of the given matrix is:\")\n",
        "print(inv)"
      ],
      "execution_count": null,
      "outputs": [
        {
          "output_type": "stream",
          "text": [
            "The inverse of the given matrix is:\n",
            "[[  8.5 -11.5  -9. ]\n",
            " [ -4.5   6.5   5. ]\n",
            " [ -7.5  10.5   8. ]]\n"
          ],
          "name": "stdout"
        }
      ]
    },
    {
      "cell_type": "markdown",
      "metadata": {
        "id": "z6yx5KGXQXfh"
      },
      "source": [
        "# **NOTES:**\n",
        "\n",
        "##LaTex\n",
        "* There can be various types of brackets to use in a matrix. Some of them are discussed below:\n",
        ">* `\\begin{matrix}: `This command creates a matrix without brackets or boundaries.\n",
        ">* `begin{pmatrix}:` This command creates a matrix with brackets or parenthesis.\n",
        ">* `\\begin{bmatrix}:` This command creates a matrix with square brackets or boundaries.\n",
        ">* `\\begin{Bmatrix}:` This command creates a matrix with curly brackets or boundaries.\n",
        ">* `\\begin{vmatrix}:` This command creates a matrix with a rectangular line boundary.\n",
        ">* `\\begin{Vmatrix}:` This command creates a matrix with double vertical bar brackets or boundaries.\n",
        "* You can also express the matrix using \n",
        "`$\\left(\\begin{array}{rr}a & b \\\\c & d\\end{array}\\right)$` where a, b, c & d are the elements of your matrix. \n",
        "\n",
        "##Matrix \n",
        "* Since python doesn't have a built-in type for matrices, we can treat the matrices as a list of a list using the code `numpy.array([[a,b], [c,d]])` where a,b,c and d are the elements of your matrix.\n",
        "* In performing arithmetic operations (addition, subtraction, multiplication), it is important to know the dimensions of the resulting matrix and write is as your result array in the code.\n",
        "```\n",
        "result = [[0,0,0],     \n",
        "          [0,0,0],    #resulting 3x3 matrix\n",
        "          [0,0,0]]\n",
        "```\n",
        "* It is important to remember that when two matrices can be multiplied together if the number of elements in the rows of matrix A are equal to the number of elements in the columns of matrix B In general terms, when multiplying a matrix\n",
        "of dimensions (m by n) by a matrix of dimensions (n by r), the resulting matrix has dimensions (m by r). For example, the resulting matrix for a 2x2 matrix and a 2x3 matrix is a 2x3 matrix. As shown below:\n",
        "$$\\begin{pmatrix}1 & 2 \\\\3 & 4\\end{pmatrix} \\begin{pmatrix}5 & 6 & 7 \\\\8 & 9 & 0\\end{pmatrix} = \\begin{pmatrix}21 & 24 & 7 \\\\47 & 54 & 21\\end{pmatrix}$$\n",
        "* It is also important to remember that in algebra, the commutative law of multiplication states that a × b=b × a. For matrices, this law is only true in a few special cases, and in general A × B $\\neq$ to B × A.\n",
        "*  `numpy.linalg.det(A)` is used in order to obtain the determinant of a given matrix where A is the matrix. For example:\n",
        "```\n",
        "#this code prints the determinant of matrix A\n",
        "A = numpy.array([[1,4,-3], [-5,2,6],[-1,-4,2]])\n",
        "d = numpy.linalg.det(A)\n",
        "print(\"The determinant of the given matrix is:\", round(d))\n",
        "```\n",
        "* The inverse or reciprocal of a given matrix or for example matrix A is obtained by: \n",
        "$$\\text {A}^{-1} = \\frac {adj \\ A}{|A|}$$\n",
        "where adj A is the adjoint of matrix A and |A| is the\n",
        "determinant of matrix A.\n",
        "* `numpy.linalg.inv(A)` is used in order to obtain the inverse of a given matrix where A is the matrix. For example:\n",
        "```\n",
        "#this code prints the inverse of Matrix A\n",
        "A = numpy.array([[1,5,-2], [3,-1,4], [-3,6,-7]])\n",
        "inv = numpy.linalg.inv(A)\n",
        "print(\"The inverse of the given matrix is:\")\n",
        "print(inv)\n",
        "```\n",
        "\n",
        "#**Reflection**\n",
        ">A matrix is a kind of two-dimensional array in which each data unit has the same scale. As a result, any matrix is indeed a two-dimensional sequence, although not vice versa. Matrices are crucial data structures for certain mathematical and scientific calculations.As an electronics engineering student,one significant application of matrices in studying engineering is in the study of electrical circuits. It aids in the calculation of battery power outputs and the conversion of electrical energy into another useful energy by resistors. As a result, matrices play an important role in calculations. Particularly in solving the problems using Kirchoff’s laws of voltage and current. It assists in understanding electrical and electronics and how to utilize it correctly. Since Python doesn't have a built-in type for matrices, we can treat the matrices as a list of a list using NumPy. It is a Python library that acts as the basis for scientific computation in Python. It comprises of a collection of tools and techniques that are very useful for solving mathematical models of problems in Science and Engineering."
      ]
    }
  ]
}